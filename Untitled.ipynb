{
 "cells": [
  {
   "cell_type": "code",
   "execution_count": 1,
   "metadata": {},
   "outputs": [],
   "source": [
    "def count_unique(arr):\n",
    "    if len(arr) == 0:\n",
    "        return 0\n",
    "    \n",
    "    i = 0\n",
    "    j = 1\n",
    "    while j < len(arr):\n",
    "        if arr[i] == arr[j]:\n",
    "            j += 1\n",
    "        else:\n",
    "            i += 1\n",
    "            arr[i] = arr[j]\n",
    "    return i+1"
   ]
  },
  {
   "cell_type": "code",
   "execution_count": 5,
   "metadata": {},
   "outputs": [
    {
     "data": {
      "text/plain": [
       "10"
      ]
     },
     "execution_count": 5,
     "metadata": {},
     "output_type": "execute_result"
    }
   ],
   "source": [
    "count_unique([1,2,3,4,5,6,7,8,9,0])"
   ]
  },
  {
   "cell_type": "code",
   "execution_count": 13,
   "metadata": {},
   "outputs": [],
   "source": [
    "def max_subarray(arr,num):\n",
    "    if len(arr)<num:\n",
    "        return None\n",
    "    \n",
    "    temp_sum = 0\n",
    "    max_sum = 0\n",
    "    i = 0\n",
    "    while i<num:\n",
    "        max_sum += arr[i]\n",
    "        i += 1\n",
    "    temp_sum = max_sum\n",
    "    for j in range(num,len(arr)):\n",
    "        temp_sum = temp_sum - arr[j-num]+arr[j]\n",
    "        max_sum = max(temp_sum,max_sum)\n",
    "    return max_sum"
   ]
  },
  {
   "cell_type": "code",
   "execution_count": 14,
   "metadata": {},
   "outputs": [
    {
     "data": {
      "text/plain": [
       "9"
      ]
     },
     "execution_count": 14,
     "metadata": {},
     "output_type": "execute_result"
    }
   ],
   "source": [
    "max_subarray([1,2,3,4,5],2)"
   ]
  },
  {
   "cell_type": "code",
   "execution_count": 15,
   "metadata": {},
   "outputs": [],
   "source": [
    "def same_frequency(num1,num2):\n",
    "    str1 = str(num1)\n",
    "    str2 = str(num2)\n",
    "    if len(str1) != len(str2):\n",
    "        return False\n",
    "    mapping = {}\n",
    "    \n",
    "    for i in str1:\n",
    "        mapping[i] = mapping.get(i,0)+1\n",
    "    \n",
    "    for i in str2:\n",
    "        if i in mapping:\n",
    "            mapping[i] = mapping[i]-1\n",
    "        else:\n",
    "            return False\n",
    "    \n",
    "    return all(x == 0 for x in mapping.values())"
   ]
  },
  {
   "cell_type": "code",
   "execution_count": 21,
   "metadata": {},
   "outputs": [
    {
     "data": {
      "text/plain": [
       "True"
      ]
     },
     "execution_count": 21,
     "metadata": {},
     "output_type": "execute_result"
    }
   ],
   "source": [
    "same_frequency(182,281)"
   ]
  },
  {
   "cell_type": "code",
   "execution_count": null,
   "metadata": {},
   "outputs": [],
   "source": []
  }
 ],
 "metadata": {
  "kernelspec": {
   "display_name": "Python 3",
   "language": "python",
   "name": "python3"
  },
  "language_info": {
   "codemirror_mode": {
    "name": "ipython",
    "version": 3
   },
   "file_extension": ".py",
   "mimetype": "text/x-python",
   "name": "python",
   "nbconvert_exporter": "python",
   "pygments_lexer": "ipython3",
   "version": "3.7.1"
  }
 },
 "nbformat": 4,
 "nbformat_minor": 2
}
